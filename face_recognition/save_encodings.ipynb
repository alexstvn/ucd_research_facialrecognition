{
 "cells": [
  {
   "cell_type": "markdown",
   "metadata": {},
   "source": [
    "## Environment Set Up"
   ]
  },
  {
   "cell_type": "code",
   "execution_count": 1,
   "metadata": {},
   "outputs": [],
   "source": [
    "# Uncomment if running on Kaggle/Google Colab\n",
    "# !pip install face_recognition"
   ]
  },
  {
   "cell_type": "code",
   "execution_count": 2,
   "metadata": {},
   "outputs": [],
   "source": [
    "from PIL import Image, ImageDraw\n",
    "from IPython.display import display\n",
    "import face_recognition\n",
    "import numpy as np\n",
    "import pickle\n",
    "import os"
   ]
  },
  {
   "cell_type": "markdown",
   "metadata": {},
   "source": [
    "## Define Variables"
   ]
  },
  {
   "cell_type": "code",
   "execution_count": 3,
   "metadata": {},
   "outputs": [],
   "source": [
    "# Specify the directory containing your images\n",
    "sample_img_folder = r'..\\img\\sample_img'\n",
    "\n",
    "# Initialize lists for storing encodings and names\n",
    "known_face_encodings = []\n",
    "known_face_names = []"
   ]
  },
  {
   "cell_type": "markdown",
   "metadata": {},
   "source": [
    "## Create Encodings\n",
    "For each image in sample_img folder, generate face encoding using image and labels using file name."
   ]
  },
  {
   "cell_type": "code",
   "execution_count": 4,
   "metadata": {},
   "outputs": [],
   "source": [
    "# Loop through all files in the directory\n",
    "for file_name in os.listdir(sample_img_folder):\n",
    "    # Construct full file path\n",
    "    file_path = os.path.join(sample_img_folder, file_name)\n",
    "\n",
    "    # Load the image\n",
    "    sample_img = face_recognition.load_image_file(file_path)\n",
    "\n",
    "    # Get face encodings for the image (assuming there's at least one face per image)\n",
    "    face_encodings = face_recognition.face_encodings(sample_img)\n",
    "    if face_encodings:\n",
    "        # Add the first face encoding found to our list\n",
    "        known_face_encodings.append(face_encodings[0])\n",
    "\n",
    "        # Extract the name from the filename by removing the file extension and underscores\n",
    "        name = os.path.splitext(file_name)[0].replace('_', ' ')\n",
    "        known_face_names.append(name)\n"
   ]
  },
  {
   "cell_type": "code",
   "execution_count": 5,
   "metadata": {},
   "outputs": [],
   "source": [
    "data = {\"encodings\": known_face_encodings, \"names\": known_face_names}"
   ]
  },
  {
   "cell_type": "markdown",
   "metadata": {},
   "source": [
    "## Export Encodings as a File"
   ]
  },
  {
   "cell_type": "code",
   "execution_count": 6,
   "metadata": {},
   "outputs": [],
   "source": [
    "with open(\"face_encodings.pkl\", \"wb\") as f:\n",
    "    pickle.dump(data, f)\n"
   ]
  }
 ],
 "metadata": {
  "kernelspec": {
   "display_name": "Python 3",
   "language": "python",
   "name": "python3"
  },
  "language_info": {
   "codemirror_mode": {
    "name": "ipython",
    "version": 3
   },
   "file_extension": ".py",
   "mimetype": "text/x-python",
   "name": "python",
   "nbconvert_exporter": "python",
   "pygments_lexer": "ipython3",
   "version": "3.11.5"
  }
 },
 "nbformat": 4,
 "nbformat_minor": 2
}
